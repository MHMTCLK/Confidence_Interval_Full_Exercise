{
 "cells": [
  {
   "cell_type": "markdown",
   "metadata": {},
   "source": [
    "CONFIDENCE INTERVAL FUNDAMENTALS WITH ONE DATASET"
   ]
  },
  {
   "cell_type": "code",
   "execution_count": 36,
   "metadata": {},
   "outputs": [
    {
     "name": "stdout",
     "output_type": "stream",
     "text": [
      "[-50, -49, -48, -47, -46, -45, -44, -43, -42, -41, -40, -39, -38, -37, -36, -35, -34, -33, -32, -31, -30, -29, -28, -27, -26, -25, -24, -23, -22, -21, -20, -19, -18, -17, -16, -15, -14, -13, -12, -11, -10, -9, -8, -7, -6, -5, -4, -3, -2, -1, 0, 1, 2, 3, 4, 5, 6, 7, 8, 9, 10, 11, 12, 13, 14, 15, 16, 17, 18, 19, 20, 21, 22, 23, 24, 25, 26, 27, 28, 29, 30, 31, 32, 33, 34, 35, 36, 37, 38, 39, 40, 41, 42, 43, 44, 45, 46, 47, 48, 49, 50]\n",
      "\n",
      "length of dataset :  101\n",
      "mean of dataset :  0.0\n",
      "standard deviation of dataset :  29.154759474226502\n",
      "standard error of dataset :  2.90100699484824\n",
      "margin of error :  5.685973709902551\n",
      "confidence interval for %95 :  (-5.685973709902551, 5.685973709902551)\n"
     ]
    }
   ],
   "source": [
    "#import packages\n",
    "import math as m\n",
    "import numpy as np\n",
    "import scipy.stats as st\n",
    "#from scipy import stats as st\n",
    "\n",
    "#create dataset\n",
    "dataset = []\n",
    "for i in range(-50,51,1):\n",
    "    dataset.append(i)\n",
    "\n",
    "print(dataset)\n",
    "\n",
    "#descriptive statistics\n",
    "len_dataset = len(dataset)\n",
    "mean_dataset = np.mean(dataset)\n",
    "std_dev_dataset = np.std(dataset)\n",
    "std_err_dataset = std_dev / (m.sqrt(len_dataset))\n",
    "\n",
    "print('')\n",
    "print('length of dataset : ', len_dataset)\n",
    "print('mean of dataset : ', mean_dataset)\n",
    "print('standard deviation of dataset : ', std_dev_dataset)\n",
    "print('standard error of dataset : ', std_err_dataset)\n",
    "\n",
    "#z-table : known population variance, sample size > 30, gauss distribution\n",
    "#st.norm.ppf(.975) #from library 1.959963984540054\n",
    "#st.norm.ppf(.025) #from library -1.960063984540054\n",
    "\n",
    "#z-table : known population variance, sample size > 30, gauss distribution\n",
    "z_value = 1.96 #please check z-table value for %95 or @=0.05\n",
    "\n",
    "#margin of error\n",
    "moe = z_value * std_err_dataset\n",
    "print ('margin of error : ', moe)\n",
    "\n",
    "ci = (mean_dataset-moe, mean_dataset+moe)\n",
    "print('confidence interval for %95 : ', ci)"
   ]
  },
  {
   "cell_type": "markdown",
   "metadata": {},
   "source": [
    "CONFIDENCE INTERVAL FOR TWO DEPENDENT DATASETS"
   ]
  },
  {
   "cell_type": "code",
   "execution_count": 47,
   "metadata": {},
   "outputs": [
    {
     "name": "stdout",
     "output_type": "stream",
     "text": [
      "before weight :  [103.68, 110.68, 119.05, 101.75, 91.69, 112.03, 88.84, 105.18, 110.37, 120.99]\n",
      "\n",
      "*********************************************\n",
      "\n",
      "after weight :  [92.87, 101.58, 105.66, 96.18, 86.97, 105.9, 80.56, 97.0, 99.27, 107.44]\n",
      "*********************************************\n",
      "\n",
      "differences weights :  [-10.810000000000002, -9.100000000000009, -13.39, -5.569999999999993, -4.719999999999999, -6.1299999999999955, -8.280000000000001, -8.180000000000007, -11.100000000000009, -13.549999999999997]\n",
      "*********************************************\n",
      "\n",
      "\n",
      "length of dataset :  10\n",
      "mean of dataset :  -9.083000000000002\n",
      "standard deviation of dataset :  2.9514879298414907\n",
      "standard error of dataset :  0.9333424344794362\n",
      "*********************************************\n",
      "\n",
      "margin of error :  2.1112205867924847\n",
      "*********************************************\n",
      "\n",
      "confidence interval for %95 :  (-11.194220586792486, -6.971779413207518)\n"
     ]
    }
   ],
   "source": [
    "#packages\n",
    "import math as m\n",
    "import numpy as np\n",
    "import scipy.stats as st\n",
    "#from scipy import stats as st\n",
    "\n",
    "#datasets\n",
    "patient_before_weight = [103.68, 110.68, 119.05, 101.75, 91.69, 112.03, 88.84, 105.18, 110.37, 120.99]\n",
    "patient_after_weight = [92.87, 101.58, 105.66, 96.18, 86.97, 105.90, 80.56, 97.00, 99.27, 107.44]\n",
    "print ('before weight : ', patient_before_weight)\n",
    "print('')\n",
    "print('*********************************************')\n",
    "print('')\n",
    "print ('after weight : ', patient_after_weight)\n",
    "print('*********************************************')\n",
    "print('')\n",
    "\n",
    "#diffenrence between before and after\n",
    "patient_difference_weight = list(np.array(patient_after_weight) - np.array(patient_before_weight))\n",
    "print ('differences weights : ', patient_difference_weight)\n",
    "print('*********************************************')\n",
    "print('')\n",
    "\n",
    "#descriptive statistics\n",
    "len_dataset = len(patient_difference_weight)\n",
    "mean_dataset = np.mean(patient_difference_weight)\n",
    "std_dev_dataset = np.std(patient_difference_weight)\n",
    "std_err_dataset = std_dev_dataset / (m.sqrt(len_dataset))\n",
    "\n",
    "print('')\n",
    "print('length of dataset : ', len_dataset)\n",
    "print('mean of dataset : ', mean_dataset)\n",
    "print('standard deviation of dataset : ', std_dev_dataset)\n",
    "print('standard error of dataset : ', std_err_dataset)\n",
    "print('*********************************************')\n",
    "print('')\n",
    "\n",
    "#t-table : unknown population variance, sample size < 30, gauss distribution\n",
    "#t_value = st.t.ppf(1-0.05, 30) #n=30, @=0.05, one-sided\n",
    "#t_value = st.t.ppf(1-0.025, 30) #n=30, @=0.05, two-sided\n",
    "#print('t-value two-sided: ', t_value)\n",
    "#print('*********************************')\n",
    "#print('')\n",
    "t_value = 2.262 #please check t-table value for %95 or @=0.05\n",
    "\n",
    "#margin of error\n",
    "moe = t_value * std_err_dataset\n",
    "print ('margin of error : ', moe)\n",
    "print('*********************************************')\n",
    "print('')\n",
    "\n",
    "#confidence interval\n",
    "ci = (mean_dataset-moe, mean_dataset+moe)\n",
    "print('confidence interval for %95 : ', ci)\n",
    "\n",
    "#RESULT\n",
    "#This program is successful.\n",
    "#Because people lost weight: [-11.194220586792486, -6.971779413207518].\n",
    "#This result for interval %95."
   ]
  },
  {
   "cell_type": "markdown",
   "metadata": {},
   "source": [
    "You want to calculate confidence interval for two independent dataset, you should apply formula."
   ]
  }
 ],
 "metadata": {
  "kernelspec": {
   "display_name": "Python 3",
   "language": "python",
   "name": "python3"
  },
  "language_info": {
   "codemirror_mode": {
    "name": "ipython",
    "version": 3
   },
   "file_extension": ".py",
   "mimetype": "text/x-python",
   "name": "python",
   "nbconvert_exporter": "python",
   "pygments_lexer": "ipython3",
   "version": "3.6.8"
  }
 },
 "nbformat": 4,
 "nbformat_minor": 2
}
